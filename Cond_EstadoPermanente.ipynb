{
 "cells": [
  {
   "cell_type": "markdown",
   "id": "7a4a9ee8",
   "metadata": {},
   "source": [
    "## Conducción de calor en estado estacionario unidimensional a través de Placa plano\n",
    "![imagen de placa plana](https://github.com/Anita0209/imagenes/blob/main/Placa%20plana.png?raw=true)\n",
    "<div style=\"text-align: justify\">Considere el sistema que se muestra arriba. La parte superior, inferior, frontal y\n",
    "La parte posterior del cubo está aislada, de modo que se pueda conducir el calor\n",
    "a través del cubo solo en la dirección X. En este caso especial, calor\n",
    "El flujo es unidimensional. Si los lados no estuvieran aislados, el flujo de calor podría\n",
    "ser bidimensionales o tridimensionales.\n",
    "    \n",
    "$$ T = T_{1}  cuando x = 0 $$\n",
    "    \n",
    "$$ T = T_{3}  cuando x = L$$\n",
    "    \n",
    "$$\\frac{d}{dx}(\\frac{dT}{\\delta x})=0$$\n",
    "\n",
    "Integrando obtenemos \n",
    "    $$\\frac{dT}{dx} = C_{1}$$\n",
    "Integrando de nuevo obtenemos\n",
    "    $$T = C_{1}x+C_{2}$$\n",
    " En la siguiente celda verás el código en python para graficar esta ecuación,  al correrlo obtendrás la ecuación."
   ]
  },
  {
   "cell_type": "code",
   "execution_count": 21,
   "id": "04b0b77f",
   "metadata": {},
   "outputs": [
    {
     "data": {
      "text/html": [
       "\n",
       "\n",
       "\n",
       "\n",
       "\n",
       "\n",
       "  <div class=\"bk-root\" id=\"b4403b30-f80d-4b11-85b7-938a9c1d69a7\" data-root-id=\"4791\"></div>\n"
      ]
     },
     "metadata": {},
     "output_type": "display_data"
    },
    {
     "data": {
      "application/javascript": [
       "(function(root) {\n",
       "  function embed_document(root) {\n",
       "    \n",
       "  const docs_json = {\"319ded97-fabc-4b6c-8675-3a5ddf3ff7a4\":{\"defs\":[],\"roots\":{\"references\":[{\"attributes\":{\"below\":[{\"id\":\"4802\"}],\"center\":[{\"id\":\"4805\"},{\"id\":\"4809\"}],\"left\":[{\"id\":\"4806\"}],\"renderers\":[{\"id\":\"4828\"}],\"title\":{\"id\":\"4792\"},\"toolbar\":{\"id\":\"4817\"},\"x_range\":{\"id\":\"4794\"},\"x_scale\":{\"id\":\"4798\"},\"y_range\":{\"id\":\"4796\"},\"y_scale\":{\"id\":\"4800\"}},\"id\":\"4791\",\"subtype\":\"Figure\",\"type\":\"Plot\"},{\"attributes\":{},\"id\":\"4803\",\"type\":\"BasicTicker\"},{\"attributes\":{},\"id\":\"5024\",\"type\":\"BasicTickFormatter\"},{\"attributes\":{\"line_alpha\":0.2,\"line_color\":\"blue\",\"line_width\":2,\"x\":{\"field\":\"x\"},\"y\":{\"field\":\"y\"}},\"id\":\"4827\",\"type\":\"Line\"},{\"attributes\":{\"tools\":[{\"id\":\"4810\"},{\"id\":\"4811\"},{\"id\":\"4812\"},{\"id\":\"4813\"},{\"id\":\"4814\"},{\"id\":\"4815\"}]},\"id\":\"4817\",\"type\":\"Toolbar\"},{\"attributes\":{},\"id\":\"4811\",\"type\":\"WheelZoomTool\"},{\"attributes\":{},\"id\":\"5025\",\"type\":\"AllLabels\"},{\"attributes\":{\"line_color\":\"blue\",\"line_width\":2,\"x\":{\"field\":\"x\"},\"y\":{\"field\":\"y\"}},\"id\":\"4825\",\"type\":\"Line\"},{\"attributes\":{},\"id\":\"4798\",\"type\":\"LinearScale\"},{\"attributes\":{},\"id\":\"5027\",\"type\":\"BasicTickFormatter\"},{\"attributes\":{\"source\":{\"id\":\"4824\"}},\"id\":\"4829\",\"type\":\"CDSView\"},{\"attributes\":{\"coordinates\":null,\"data_source\":{\"id\":\"4824\"},\"glyph\":{\"id\":\"4825\"},\"group\":null,\"hover_glyph\":null,\"muted_glyph\":{\"id\":\"4827\"},\"nonselection_glyph\":{\"id\":\"4826\"},\"view\":{\"id\":\"4829\"}},\"id\":\"4828\",\"type\":\"GlyphRenderer\"},{\"attributes\":{\"axis_label\":\"x\",\"coordinates\":null,\"formatter\":{\"id\":\"5027\"},\"group\":null,\"major_label_policy\":{\"id\":\"5028\"},\"ticker\":{\"id\":\"4803\"}},\"id\":\"4802\",\"type\":\"LinearAxis\"},{\"attributes\":{\"data\":{\"x\":{\"__ndarray__\":\"AAAAAAAA8D900UUXXXTxP+miiy666PI/XXTRRRdd9D/SRRdddNH1P0YXXXTRRfc/uuiiiy66+D8uuuiiiy76P6OLLrroovs/GF100UUX/T+MLrrooov+PwAAAAAAAABAuuiiiy66AEB00UUXXXQBQC666KKLLgJA6aKLLrroAkCjiy666KIDQF100UUXXQRAGF100UUXBUDSRRdddNEFQIwuuuiiiwZARhdddNFFB0AAAAAAAAAIQLrooosuughAdNFFF110CUAvuuiiiy4KQOmiiy666ApAo4suuuiiC0BddNFFF10MQBdddNFFFw1A0kUXXXTRDUCMLrrooosOQEYXXXTRRQ9AAAAAAAAAEEBddNFFF10QQLrooosuuhBAGF100UUXEUB00UUXXXQRQNJFF1100RFALrrooosuEkCMLrrooosSQOmiiy666BJARhdddNFFE0Cjiy666KITQAAAAAAAABRAXXTRRRddFEC66KKLLroUQBdddNFFFxVAdNFFF110FUDSRRdddNEVQC+66KKLLhZAjC666KKLFkDpoosuuugWQEYXXXTRRRdAo4suuuiiF0AAAAAAAAAYQF100UUXXRhAuuiiiy66GEAXXXTRRRcZQHXRRRdddBlA0kUXXXTRGUAvuuiiiy4aQIwuuuiiixpA6aKLLrroGkBGF1100UUbQKOLLrroohtAAAAAAAAAHEBddNFFF10cQLrooosuuhxAF1100UUXHUB10UUXXXQdQNJFF1100R1AL7rooosuHkCMLrroooseQOmiiy666B5ARhdddNFFH0Cjiy666KIfQAAAAAAAACBALrrooosuIEBddNFFF10gQIwuuuiiiyBAuuiiiy66IEDpoosuuuggQBhddNFFFyFARhdddNFFIUB00UUXXXQhQKOLLrrooiFA0kUXXXTRIUAAAAAAAAAiQC+66KKLLiJAXXTRRRddIkCMLrrooosiQLrooosuuiJA6aKLLrroIkAXXXTRRRcjQEYXXXTRRSNAdNFFF110I0Cjiy666KIjQNJFF1100SNAAAAAAAAAJEA=\",\"dtype\":\"float64\",\"order\":\"little\",\"shape\":[100]},\"y\":{\"__ndarray__\":\"AAAAAAAAaUCiiy666CJqQEYXXXTRRWtA6KKLLrpobECMLrrooottQC+66KKLrm5A0UUXXXTRb0C66KKLLnpwQIwuuuiiC3FAXnTRRRedcUAuuuiiiy5yQAAAAAAAwHJA0kUXXXRRc0Ciiy666OJzQHTRRRdddHRARhdddNEFdUAYXXTRRZd1QOiiiy66KHZAu+iiiy66dkCMLrrookt3QF100UUX3XdAL7roootueEAAAAAAAAB5QNFFF110kXlAo4suuugiekB10UUXXbR6QEYXXXTRRXtAF1100UXXe0Dpoosuumh8QLrooosu+nxAjC666KKLfUBddNFFFx1+QC+66KKLrn5AAAAAAABAf0DRRRdddNF/QNJFF110MYBAu+iiiy56gECiiy666MKAQIwuuuiiC4FAdNFFF11UgUBedNFFF52BQEYXXXTR5YFALrrooosugkAYXXTRRXeCQAAAAAAAwIJA6KKLLroIg0DRRRdddFGDQLrooosumoNAo4suuujig0CMLrrooiuEQHXRRRdddIRAXXTRRRe9hEBGF1100QWFQC+66KKLToVAF1100UWXhUAAAAAAAOCFQOmiiy66KIZA0UUXXXRxhkC66KKLLrqGQKOLLrroAodAjC666KJLh0B10UUXXZSHQF100UUX3YdARhdddNEliEAvuuiii26IQBdddNFFt4hAAAAAAAAAiUDpoosuukiJQNFFF110kYlAuuiiiy7aiUCjiy666CKKQIwuuuiia4pAddFFF120ikBddNFFF/2KQEYXXXTRRYtAL7rooouOi0AXXXTRRdeLQAAAAAAAIIxA6KKLLrpojEDRRRdddLGMQLvooosu+oxAo4suuuhCjUCMLrrooouNQHbRRRdd1I1AXXTRRRcdjkBFF1100WWOQC+66KKLro5AGF100UX3jkAAAAAAAECPQOmiiy66iI9A0UUXXXTRj0BedNFFFw2QQNJFF110MZBARhdddNFVkEC66KKLLnqQQC666KKLnpBAoosuuujCkEAYXXTRReeQQIwuuuiiC5FAAAAAAAAwkUA=\",\"dtype\":\"float64\",\"order\":\"little\",\"shape\":[100]}},\"selected\":{\"id\":\"5030\"},\"selection_policy\":{\"id\":\"5029\"}},\"id\":\"4824\",\"type\":\"ColumnDataSource\"},{\"attributes\":{},\"id\":\"5028\",\"type\":\"AllLabels\"},{\"attributes\":{},\"id\":\"4814\",\"type\":\"ResetTool\"},{\"attributes\":{},\"id\":\"5029\",\"type\":\"UnionRenderers\"},{\"attributes\":{\"bottom_units\":\"screen\",\"coordinates\":null,\"fill_alpha\":0.5,\"fill_color\":\"lightgrey\",\"group\":null,\"left_units\":\"screen\",\"level\":\"overlay\",\"line_alpha\":1.0,\"line_color\":\"black\",\"line_dash\":[4,4],\"line_width\":2,\"right_units\":\"screen\",\"syncable\":false,\"top_units\":\"screen\"},\"id\":\"4816\",\"type\":\"BoxAnnotation\"},{\"attributes\":{\"axis\":{\"id\":\"4802\"},\"coordinates\":null,\"group\":null,\"ticker\":null},\"id\":\"4805\",\"type\":\"Grid\"},{\"attributes\":{\"overlay\":{\"id\":\"4816\"}},\"id\":\"4812\",\"type\":\"BoxZoomTool\"},{\"attributes\":{\"coordinates\":null,\"group\":null,\"text\":\"Conducci\\u00f3n de calor en placa plana\"},\"id\":\"4792\",\"type\":\"Title\"},{\"attributes\":{},\"id\":\"4815\",\"type\":\"HelpTool\"},{\"attributes\":{},\"id\":\"5030\",\"type\":\"Selection\"},{\"attributes\":{},\"id\":\"4800\",\"type\":\"LinearScale\"},{\"attributes\":{},\"id\":\"4796\",\"type\":\"DataRange1d\"},{\"attributes\":{},\"id\":\"4807\",\"type\":\"BasicTicker\"},{\"attributes\":{\"axis_label\":\"Temperatura\",\"coordinates\":null,\"formatter\":{\"id\":\"5024\"},\"group\":null,\"major_label_policy\":{\"id\":\"5025\"},\"ticker\":{\"id\":\"4807\"}},\"id\":\"4806\",\"type\":\"LinearAxis\"},{\"attributes\":{\"line_alpha\":0.1,\"line_color\":\"blue\",\"line_width\":2,\"x\":{\"field\":\"x\"},\"y\":{\"field\":\"y\"}},\"id\":\"4826\",\"type\":\"Line\"},{\"attributes\":{},\"id\":\"4810\",\"type\":\"PanTool\"},{\"attributes\":{},\"id\":\"4794\",\"type\":\"DataRange1d\"},{\"attributes\":{\"axis\":{\"id\":\"4806\"},\"coordinates\":null,\"dimension\":1,\"group\":null,\"ticker\":null},\"id\":\"4809\",\"type\":\"Grid\"},{\"attributes\":{},\"id\":\"4813\",\"type\":\"SaveTool\"}],\"root_ids\":[\"4791\"]},\"title\":\"Bokeh Application\",\"version\":\"2.4.2\"}};\n",
       "  const render_items = [{\"docid\":\"319ded97-fabc-4b6c-8675-3a5ddf3ff7a4\",\"root_ids\":[\"4791\"],\"roots\":{\"4791\":\"b4403b30-f80d-4b11-85b7-938a9c1d69a7\"}}];\n",
       "  root.Bokeh.embed.embed_items_notebook(docs_json, render_items);\n",
       "\n",
       "  }\n",
       "  if (root.Bokeh !== undefined) {\n",
       "    embed_document(root);\n",
       "  } else {\n",
       "    let attempts = 0;\n",
       "    const timer = setInterval(function(root) {\n",
       "      if (root.Bokeh !== undefined) {\n",
       "        clearInterval(timer);\n",
       "        embed_document(root);\n",
       "      } else {\n",
       "        attempts++;\n",
       "        if (attempts > 100) {\n",
       "          clearInterval(timer);\n",
       "          console.log(\"Bokeh: ERROR: Unable to run BokehJS code because BokehJS library is missing\");\n",
       "        }\n",
       "      }\n",
       "    }, 10, root)\n",
       "  }\n",
       "})(window);"
      ],
      "application/vnd.bokehjs_exec.v0+json": ""
     },
     "metadata": {
      "application/vnd.bokehjs_exec.v0+json": {
       "id": "4791"
      }
     },
     "output_type": "display_data"
    }
   ],
   "source": [
    "import numpy as np\n",
    "from bokeh.plotting import figure, show\n",
    "\n",
    "# Definir las constantes y las condiciones iniciales\n",
    "T1 = 100\n",
    "T2 = 200\n",
    "L = 1\n",
    "C1 = (T2 - T1) / L\n",
    "C2 = T1\n",
    "\n",
    "# Crear el arreglo de puntos x\n",
    "x = np.linspace(1,10, 100)\n",
    "\n",
    "# Calcular la temperatura en cada punto\n",
    "T = C1 * x + C2\n",
    "\n",
    "# Crear la figura y graficar los datos\n",
    "fig = figure(title='Conducción de calor en placa plana', x_axis_label='x', y_axis_label='Temperatura')\n",
    "fig.line(x, T, line_width=2, color='blue')\n",
    "\n",
    "# Mostrar la figura\n",
    "show(fig)\n"
   ]
  },
  {
   "cell_type": "markdown",
   "id": "d1a6e21b",
   "metadata": {},
   "source": [
    "# Conducción de calor en estado estacionario unidimensional a través de Superficie cilíndrico\n",
    "\n",
    "![imagen de placa plana](https://github.com/Anita0209/imagenes/blob/main/superficie%20cilindrica.png?raw=true)\n",
    "\n",
    "\n",
    "$T = T_{1} $cuando r$ = a$$\n",
    "$T = T_{2}$ cuando r $= b$\n",
    "\n",
    "$$\\frac{d}{dr}(r\\frac{dT}{dr}) = 0$$\n",
    "\n",
    "integrando obtenemos\n",
    "\n",
    "$$r\\frac{dT}{dr} = C_{1}$$\n",
    "\n",
    "$$\\frac{dT}{dr} = \\frac{C_{1}}{r}$$\n",
    "\n",
    "integrando de nuevo obtenemos\n",
    "$$T = C_{1} lnr+C_{2}$$\n",
    "\n",
    "\n",
    "Usando la condición de frontera en r = a, b y y b>a se obtiene\n",
    "\n",
    "$$T_{1} = C_{1}lna+C_{1}$$\n",
    "$$T_{2} = C_{2}lnb+C_{2}$$\n",
    "\n",
    "Ahora en la siguiente esta el código de python para ejemplificar con una gráfica las ecuaciónes anteriores."
   ]
  },
  {
   "cell_type": "code",
   "execution_count": 16,
   "id": "44b5b91c",
   "metadata": {},
   "outputs": [
    {
     "data": {
      "text/html": [
       "\n",
       "\n",
       "\n",
       "\n",
       "\n",
       "\n",
       "  <div class=\"bk-root\" id=\"4dfb7dc4-bde2-4e8a-94f6-7d94a6641a20\" data-root-id=\"3446\"></div>\n"
      ]
     },
     "metadata": {},
     "output_type": "display_data"
    },
    {
     "data": {
      "application/javascript": [
       "(function(root) {\n",
       "  function embed_document(root) {\n",
       "    \n",
       "  const docs_json = {\"3dcbc4d2-c174-4403-82d0-eb05c984bd62\":{\"defs\":[],\"roots\":{\"references\":[{\"attributes\":{\"below\":[{\"id\":\"3457\"}],\"center\":[{\"id\":\"3460\"},{\"id\":\"3464\"}],\"left\":[{\"id\":\"3461\"}],\"renderers\":[{\"id\":\"3483\"}],\"title\":{\"id\":\"3447\"},\"toolbar\":{\"id\":\"3472\"},\"x_range\":{\"id\":\"3449\"},\"x_scale\":{\"id\":\"3453\"},\"y_range\":{\"id\":\"3451\"},\"y_scale\":{\"id\":\"3455\"}},\"id\":\"3446\",\"subtype\":\"Figure\",\"type\":\"Plot\"},{\"attributes\":{},\"id\":\"3449\",\"type\":\"DataRange1d\"},{\"attributes\":{\"tools\":[{\"id\":\"3465\"},{\"id\":\"3466\"},{\"id\":\"3467\"},{\"id\":\"3468\"},{\"id\":\"3469\"},{\"id\":\"3470\"}]},\"id\":\"3472\",\"type\":\"Toolbar\"},{\"attributes\":{},\"id\":\"3631\",\"type\":\"AllLabels\"},{\"attributes\":{\"coordinates\":null,\"data_source\":{\"id\":\"3479\"},\"glyph\":{\"id\":\"3480\"},\"group\":null,\"hover_glyph\":null,\"muted_glyph\":{\"id\":\"3482\"},\"nonselection_glyph\":{\"id\":\"3481\"},\"view\":{\"id\":\"3484\"}},\"id\":\"3483\",\"type\":\"GlyphRenderer\"},{\"attributes\":{\"data\":{\"x\":{\"__ndarray__\":\"exSuR+F6hD9YFnhlgVeGPzQYQoMhNIg/ERoMocEQij/uG9a+Ye2LP8odoNwByo0/px9q+qGmjz/CEBoMocGQP7AR/xrxr5E/nhLkKUGekj+NE8k4kYyTP3wUrkfhepQ/ahWTVjFplT9YFnhlgVeWP0YXXXTRRZc/NBhCgyE0mD8jGSeScSKZPxIaDKHBEJo/ABvxrxH/mj/uG9a+Ye2bP9wcu82x25w/yh2g3AHKnT+6HoXrUbieP6gfavqhpp8/S5CnBHlKoD/CEBoMocGgPzmRjBPJOKE/sBH/GvGvoT8oknEiGSeiP58S5ClBnqI/FpNWMWkVoz+NE8k4kYyjPwSUO0C5A6Q/exSuR+F6pD/zlCBPCfKkP2oVk1YxaaU/4ZUFXlngpT9YFnhlgVemP9CW6mypzqY/RxdddNFFpz++l897+bynPzUYQoMhNKg/rJi0ikmrqD8jGSeScSKpP5uZmZmZmak/EhoMocEQqj+Jmn6o6YeqPwAb8a8R/6o/d5tjtzl2qz/uG9a+Ye2rP2acSMaJZKw/3Ry7zbHbrD9UnS3V2VKtP8sdoNwByq0/Qp4S5ClBrj+5HoXrUbiuPzGf9/J5L68/qB9q+qGmrz8PUO4A5Q6wP0uQpwR5SrA/htBgCA2GsD/CEBoMocGwP/5Q0w81/bA/OZGME8k4sT910UUXXXSxP7AR/xrxr7E/7FG4HoXrsT8oknEiGSeyP2PSKiatYrI/nhLkKUGesj/aUp0t1dmyPxaTVjFpFbM/UdMPNf1Qsz+NE8k4kYyzP8hTgjwlyLM/BJQ7QLkDtD9A1PRDTT+0P3sUrkfherQ/t1RnS3W2tD/ylCBPCfK0Py7V2VKdLbU/aRWTVjFptT+lVUxaxaS1P+GVBV5Z4LU/HNa+Ye0btj9YFnhlgVe2P5NWMWkVk7Y/z5bqbKnOtj8L16NwPQq3P0YXXXTRRbc/glcWeGWBtz+9l897+by3P/nXiH+N+Lc/NBhCgyE0uD9wWPuGtW+4P6yYtIpJq7g/59htjt3muD8jGSeScSK5P15Z4JUFXrk/mpmZmZmZuT8=\",\"dtype\":\"float64\",\"order\":\"little\",\"shape\":[100]},\"y\":{\"__ndarray__\":\"//////8/cEDqFcJxoQ9wQPPv3DFFxm9AgdADpOBzb0AF7U7xKydvQCXPzglr325A5UzjGgScbkB1naC4d1xuQLoidSZbIG5AVZCZF1TnbUAhQiB5FbFtQO8UZ/tcfW1AdP/QJ/FLbUDFQOvenxxtQIRRZCU972xA4wRELaLDbEAWD72NrJlsQHDlap89cWxA8lxP9TlKbED1AbbsiCRsQHQ6e08UAGxAFuQ1Bcjca0CQhoPQkbprQNZhShZhmWtAoKY1rSZ5a0Bmsge01FlrQBR/om1eO2tAqjfcIbgda0CDdmAC1wBrQESlABOx5GpArTPxFD3JakASV4d0cq5qQMvcHDlJlGpA4CnO9rl6akCVc9LBvWFqQGUUOCNOSWpAwgbXDmUxakC2VVLa/BlqQLz7BjUQA2pAdGbLIJrsaUB202brldZpQNMZqyj/wGlA+k4erdGraUAGJCSJCZdpQA/rmASjgmlAYfrRmppuaUBKqfj27FppQOJxtvCWR2lA0OQpiZU0aUDlFh3o5SFpQO8Jd1mFD2lAZU/iSnH9aECyyKNJp+toQAb5nAAl2mhAA9t1NujIaECAm+rL7rdoQCj8Obo2p2hAxnaxEb6WaEAGhlT4goZoQJC7nKiDdmhAMIdQcL5maEBWx26vMVdoQKZqLdfbR2hABZQJabs4aEAU2Of1ziloQJpMQx0VG2hALEBqjIwMaEB0i8f9M/5nQICFNzgK8GdANbpnDg7iZ0CmlUBePtRnQJ5IWBCaxmdAnjpuFyC5Z0ACbO5vz6tnQPY3fB+nnmdAvPGDNKaRZ0CC49LFy4RnQNA+NfIWeGdAPJcZ4IZrZ0CGiDm9Gl9nQCAwR77RUmdAVimfHqtGZ0AFwf4fpjpnQLIbPgrCLmdAyg0OK/4iZ0CmarnVWRdnQCST6WLUC2dArRBuMG0AZ0AgDQehI/VmQGR7Mhz36WZAk8f7DefeZkBn6M3m8tNmQEquRxsayWZAxC4SJFy+ZkAxLbl9uLNmQOpjhaguqWZAqpJYKL6eZkD2OIuEZpRmQOTky0cnimZA//////9/ZkA=\",\"dtype\":\"float64\",\"order\":\"little\",\"shape\":[100]}},\"selected\":{\"id\":\"3633\"},\"selection_policy\":{\"id\":\"3632\"}},\"id\":\"3479\",\"type\":\"ColumnDataSource\"},{\"attributes\":{},\"id\":\"3462\",\"type\":\"BasicTicker\"},{\"attributes\":{},\"id\":\"3632\",\"type\":\"UnionRenderers\"},{\"attributes\":{\"coordinates\":null,\"group\":null,\"text\":\"Conducci\\u00f3n de calor en estado estacionario unidimensional a trav\\u00e9s de una superficie cil\\u00edndrica\"},\"id\":\"3447\",\"type\":\"Title\"},{\"attributes\":{},\"id\":\"3451\",\"type\":\"DataRange1d\"},{\"attributes\":{},\"id\":\"3455\",\"type\":\"LinearScale\"},{\"attributes\":{},\"id\":\"3633\",\"type\":\"Selection\"},{\"attributes\":{},\"id\":\"3628\",\"type\":\"AllLabels\"},{\"attributes\":{},\"id\":\"3627\",\"type\":\"BasicTickFormatter\"},{\"attributes\":{},\"id\":\"3466\",\"type\":\"WheelZoomTool\"},{\"attributes\":{\"line_alpha\":0.1,\"line_color\":\"#1f77b4\",\"x\":{\"field\":\"x\"},\"y\":{\"field\":\"y\"}},\"id\":\"3481\",\"type\":\"Line\"},{\"attributes\":{},\"id\":\"3630\",\"type\":\"BasicTickFormatter\"},{\"attributes\":{},\"id\":\"3465\",\"type\":\"PanTool\"},{\"attributes\":{},\"id\":\"3458\",\"type\":\"BasicTicker\"},{\"attributes\":{\"axis\":{\"id\":\"3457\"},\"coordinates\":null,\"group\":null,\"ticker\":null},\"id\":\"3460\",\"type\":\"Grid\"},{\"attributes\":{},\"id\":\"3453\",\"type\":\"LinearScale\"},{\"attributes\":{\"source\":{\"id\":\"3479\"}},\"id\":\"3484\",\"type\":\"CDSView\"},{\"attributes\":{\"axis_label\":\"r\",\"coordinates\":null,\"formatter\":{\"id\":\"3630\"},\"group\":null,\"major_label_policy\":{\"id\":\"3631\"},\"ticker\":{\"id\":\"3458\"}},\"id\":\"3457\",\"type\":\"LinearAxis\"},{\"attributes\":{\"bottom_units\":\"screen\",\"coordinates\":null,\"fill_alpha\":0.5,\"fill_color\":\"lightgrey\",\"group\":null,\"left_units\":\"screen\",\"level\":\"overlay\",\"line_alpha\":1.0,\"line_color\":\"black\",\"line_dash\":[4,4],\"line_width\":2,\"right_units\":\"screen\",\"syncable\":false,\"top_units\":\"screen\"},\"id\":\"3471\",\"type\":\"BoxAnnotation\"},{\"attributes\":{\"axis\":{\"id\":\"3461\"},\"coordinates\":null,\"dimension\":1,\"group\":null,\"ticker\":null},\"id\":\"3464\",\"type\":\"Grid\"},{\"attributes\":{},\"id\":\"3469\",\"type\":\"ResetTool\"},{\"attributes\":{\"overlay\":{\"id\":\"3471\"}},\"id\":\"3467\",\"type\":\"BoxZoomTool\"},{\"attributes\":{\"line_alpha\":0.2,\"line_color\":\"#1f77b4\",\"x\":{\"field\":\"x\"},\"y\":{\"field\":\"y\"}},\"id\":\"3482\",\"type\":\"Line\"},{\"attributes\":{},\"id\":\"3468\",\"type\":\"SaveTool\"},{\"attributes\":{\"line_color\":\"#1f77b4\",\"x\":{\"field\":\"x\"},\"y\":{\"field\":\"y\"}},\"id\":\"3480\",\"type\":\"Line\"},{\"attributes\":{\"axis_label\":\"Temperatura\",\"coordinates\":null,\"formatter\":{\"id\":\"3627\"},\"group\":null,\"major_label_policy\":{\"id\":\"3628\"},\"ticker\":{\"id\":\"3462\"}},\"id\":\"3461\",\"type\":\"LinearAxis\"},{\"attributes\":{},\"id\":\"3470\",\"type\":\"HelpTool\"}],\"root_ids\":[\"3446\"]},\"title\":\"Bokeh Application\",\"version\":\"2.4.2\"}};\n",
       "  const render_items = [{\"docid\":\"3dcbc4d2-c174-4403-82d0-eb05c984bd62\",\"root_ids\":[\"3446\"],\"roots\":{\"3446\":\"4dfb7dc4-bde2-4e8a-94f6-7d94a6641a20\"}}];\n",
       "  root.Bokeh.embed.embed_items_notebook(docs_json, render_items);\n",
       "\n",
       "  }\n",
       "  if (root.Bokeh !== undefined) {\n",
       "    embed_document(root);\n",
       "  } else {\n",
       "    let attempts = 0;\n",
       "    const timer = setInterval(function(root) {\n",
       "      if (root.Bokeh !== undefined) {\n",
       "        clearInterval(timer);\n",
       "        embed_document(root);\n",
       "      } else {\n",
       "        attempts++;\n",
       "        if (attempts > 100) {\n",
       "          clearInterval(timer);\n",
       "          console.log(\"Bokeh: ERROR: Unable to run BokehJS code because BokehJS library is missing\");\n",
       "        }\n",
       "      }\n",
       "    }, 10, root)\n",
       "  }\n",
       "})(window);"
      ],
      "application/vnd.bokehjs_exec.v0+json": ""
     },
     "metadata": {
      "application/vnd.bokehjs_exec.v0+json": {
       "id": "3446"
      }
     },
     "output_type": "display_data"
    }
   ],
   "source": [
    "import numpy as np\n",
    "from bokeh.plotting import figure, show\n",
    "\n",
    "# Definir los valores de las constantes\n",
    "T1 = 100\n",
    "T2 = 20\n",
    "a = 0.01\n",
    "b = 0.1\n",
    "C1 = (T2 - T1) / np.log(b/a)\n",
    "C2 = T1\n",
    "\n",
    "# Definir los valores de r para la gráfica\n",
    "r = np.linspace(a, b, 100)\n",
    "\n",
    "# Calcular los valores de T para los valores de r\n",
    "T = C1 * np.log(r) + C2\n",
    "\n",
    "# Crear una figura con etiquetas de los ejes\n",
    "p = figure(title='Conducción de calor en estado estacionario unidimensional a través de una superficie cilíndrica', x_axis_label='r', y_axis_label='Temperatura')\n",
    "\n",
    "# Agregar la línea de la ecuación a la figura\n",
    "p.line(r, T)\n",
    "\n",
    "# Mostrar la figura\n",
    "show(p)\n"
   ]
  },
  {
   "cell_type": "markdown",
   "id": "3c61e0a1",
   "metadata": {},
   "source": [
    "# Conducción de calor en estado estacionario unidimensional a través de Superficie esférico\n",
    "\n",
    "![imagen de placa plana](https://github.com/Anita0209/imagenes/blob/main/esfera.png?raw=true)\n",
    "\n",
    "$$T = T_{1} cuando r = a$$\n",
    "$$T = T_{2} cuando r = b$$\n",
    "\n",
    "$$\\frac{d}{dr}(r^{2}\\frac{dT}{\\delta r})=0$$\n",
    "Integrando obtenemos\n",
    "$$r^{2}\\frac{dT}{dr} = C_{1}$$\n",
    "\n",
    "\n",
    "$$\\frac{dT}{dr} = \\frac{C_{1}}{r^{2}}$$\n",
    "\n",
    "Integrand de nuevo obtenemos\n",
    "\n",
    "$$T = -\\frac{C_{1}}{r}+C_{2} $$\n",
    "\n",
    "Usando la condición de frontera en r = a, b y b>a se obtiene \n",
    " $$T_{1} = -\\frac{C_{1}}{a}+C_{2}$$\n",
    " $$T_{2} = -\\frac{C_{1}}{b}+C_{2}$$\n",
    " \n",
    " \n",
    " En la siguiente celda esta el código python para estas ecuaciones, ejecutalo y podrás ver las gráficas"
   ]
  },
  {
   "cell_type": "code",
   "execution_count": 18,
   "id": "27b1d9e7",
   "metadata": {},
   "outputs": [
    {
     "data": {
      "text/html": [
       "\n",
       "\n",
       "\n",
       "\n",
       "\n",
       "\n",
       "  <div class=\"bk-root\" id=\"0eb68560-f63e-4e3e-8bcb-07bd1ecade03\" data-root-id=\"3978\"></div>\n"
      ]
     },
     "metadata": {},
     "output_type": "display_data"
    },
    {
     "data": {
      "application/javascript": [
       "(function(root) {\n",
       "  function embed_document(root) {\n",
       "    \n",
       "  const docs_json = {\"a46942aa-10a6-430d-8a7d-d0eb5977ff89\":{\"defs\":[],\"roots\":{\"references\":[{\"attributes\":{\"below\":[{\"id\":\"3989\"}],\"center\":[{\"id\":\"3992\"},{\"id\":\"3996\"}],\"left\":[{\"id\":\"3993\"}],\"renderers\":[{\"id\":\"4015\"}],\"title\":{\"id\":\"3979\"},\"toolbar\":{\"id\":\"4004\"},\"x_range\":{\"id\":\"3981\"},\"x_scale\":{\"id\":\"3985\"},\"y_range\":{\"id\":\"3983\"},\"y_scale\":{\"id\":\"3987\"}},\"id\":\"3978\",\"subtype\":\"Figure\",\"type\":\"Plot\"},{\"attributes\":{\"source\":{\"id\":\"4011\"}},\"id\":\"4016\",\"type\":\"CDSView\"},{\"attributes\":{\"line_alpha\":0.1,\"line_color\":\"#1f77b4\",\"x\":{\"field\":\"x\"},\"y\":{\"field\":\"y\"}},\"id\":\"4013\",\"type\":\"Line\"},{\"attributes\":{},\"id\":\"4181\",\"type\":\"BasicTickFormatter\"},{\"attributes\":{\"bottom_units\":\"screen\",\"coordinates\":null,\"fill_alpha\":0.5,\"fill_color\":\"lightgrey\",\"group\":null,\"left_units\":\"screen\",\"level\":\"overlay\",\"line_alpha\":1.0,\"line_color\":\"black\",\"line_dash\":[4,4],\"line_width\":2,\"right_units\":\"screen\",\"syncable\":false,\"top_units\":\"screen\"},\"id\":\"4003\",\"type\":\"BoxAnnotation\"},{\"attributes\":{},\"id\":\"4182\",\"type\":\"AllLabels\"},{\"attributes\":{},\"id\":\"3994\",\"type\":\"BasicTicker\"},{\"attributes\":{},\"id\":\"4184\",\"type\":\"BasicTickFormatter\"},{\"attributes\":{\"axis\":{\"id\":\"3989\"},\"coordinates\":null,\"group\":null,\"ticker\":null},\"id\":\"3992\",\"type\":\"Grid\"},{\"attributes\":{},\"id\":\"4185\",\"type\":\"AllLabels\"},{\"attributes\":{\"coordinates\":null,\"data_source\":{\"id\":\"4011\"},\"glyph\":{\"id\":\"4012\"},\"group\":null,\"hover_glyph\":null,\"muted_glyph\":{\"id\":\"4014\"},\"nonselection_glyph\":{\"id\":\"4013\"},\"view\":{\"id\":\"4016\"}},\"id\":\"4015\",\"type\":\"GlyphRenderer\"},{\"attributes\":{},\"id\":\"3987\",\"type\":\"LinearScale\"},{\"attributes\":{\"axis_label\":\"r\",\"coordinates\":null,\"formatter\":{\"id\":\"4184\"},\"group\":null,\"major_label_policy\":{\"id\":\"4185\"},\"ticker\":{\"id\":\"3990\"}},\"id\":\"3989\",\"type\":\"LinearAxis\"},{\"attributes\":{\"line_alpha\":0.2,\"line_color\":\"#1f77b4\",\"x\":{\"field\":\"x\"},\"y\":{\"field\":\"y\"}},\"id\":\"4014\",\"type\":\"Line\"},{\"attributes\":{},\"id\":\"3990\",\"type\":\"BasicTicker\"},{\"attributes\":{\"line_color\":\"#1f77b4\",\"x\":{\"field\":\"x\"},\"y\":{\"field\":\"y\"}},\"id\":\"4012\",\"type\":\"Line\"},{\"attributes\":{\"axis_label\":\"Temperatura\",\"coordinates\":null,\"formatter\":{\"id\":\"4181\"},\"group\":null,\"major_label_policy\":{\"id\":\"4182\"},\"ticker\":{\"id\":\"3994\"}},\"id\":\"3993\",\"type\":\"LinearAxis\"},{\"attributes\":{\"data\":{\"x\":{\"__ndarray__\":\"exSuR+F6hD9YFnhlgVeGPzQYQoMhNIg/ERoMocEQij/uG9a+Ye2LP8odoNwByo0/px9q+qGmjz/CEBoMocGQP7AR/xrxr5E/nhLkKUGekj+NE8k4kYyTP3wUrkfhepQ/ahWTVjFplT9YFnhlgVeWP0YXXXTRRZc/NBhCgyE0mD8jGSeScSKZPxIaDKHBEJo/ABvxrxH/mj/uG9a+Ye2bP9wcu82x25w/yh2g3AHKnT+6HoXrUbieP6gfavqhpp8/S5CnBHlKoD/CEBoMocGgPzmRjBPJOKE/sBH/GvGvoT8oknEiGSeiP58S5ClBnqI/FpNWMWkVoz+NE8k4kYyjPwSUO0C5A6Q/exSuR+F6pD/zlCBPCfKkP2oVk1YxaaU/4ZUFXlngpT9YFnhlgVemP9CW6mypzqY/RxdddNFFpz++l897+bynPzUYQoMhNKg/rJi0ikmrqD8jGSeScSKpP5uZmZmZmak/EhoMocEQqj+Jmn6o6YeqPwAb8a8R/6o/d5tjtzl2qz/uG9a+Ye2rP2acSMaJZKw/3Ry7zbHbrD9UnS3V2VKtP8sdoNwByq0/Qp4S5ClBrj+5HoXrUbiuPzGf9/J5L68/qB9q+qGmrz8PUO4A5Q6wP0uQpwR5SrA/htBgCA2GsD/CEBoMocGwP/5Q0w81/bA/OZGME8k4sT910UUXXXSxP7AR/xrxr7E/7FG4HoXrsT8oknEiGSeyP2PSKiatYrI/nhLkKUGesj/aUp0t1dmyPxaTVjFpFbM/UdMPNf1Qsz+NE8k4kYyzP8hTgjwlyLM/BJQ7QLkDtD9A1PRDTT+0P3sUrkfherQ/t1RnS3W2tD/ylCBPCfK0Py7V2VKdLbU/aRWTVjFptT+lVUxaxaS1P+GVBV5Z4LU/HNa+Ye0btj9YFnhlgVe2P5NWMWkVk7Y/z5bqbKnOtj8L16NwPQq3P0YXXXTRRbc/glcWeGWBtz+9l897+by3P/nXiH+N+Lc/NBhCgyE0uD9wWPuGtW+4P6yYtIpJq7g/59htjt3muD8jGSeScSK5P15Z4JUFXrk/mpmZmZmZuT8=\",\"dtype\":\"float64\",\"order\":\"little\",\"shape\":[100]},\"y\":{\"__ndarray__\":\"AAAAAAAAWUBeQnsJ7SVXQEzJlEzJlFVAz/M8z/M8VEAvob2E9hJTQOM4juM4DlJAKCgoKCgoUUAPi5SBp1tQQJXUVlJbSU9A////////TUBfrYC1AtZMQG8cx3Ecx0tAixI/o8TPSkDPXkJ7Ce1JQMZxHMdxHElAveVbvuVbSEC1IaD4nKlHQD8QBEEQBEdA5J5GWO5pRkCgvYT2EtpFQP1NjYp/U0VAVFVVVVXVREDrJbSX0F5EQJhE75lE70NAYBiGYRiGQ0CAp1vzwyJDQEwMsAfOxEJAvIbyGsprQkB0AcLKVhdCQHAcx3Ecx0FAeb+s98t6QUAgc4fMHTJBQLp3mQjR7EBAqqqqqqqqQEBgkTLwdGtAQLalZsP+LkBA7GzUdzbqP0Cxl9BeQns/QMAeo5/VED9Ap6qqqqqqPkAMLPNkgUg+QJ4e6qEe6j1AvNdGrEuPPUCXWi7c1Tc9QDWO4ziO4zxAIUmSJEmSPEA6hPcQ3kM8QMbX1Dsn+DtA8YdCcgGvO0CC9hLaS2g7QHo3lcDnIztA3oYbbrjhOkDCFL79oqE6QDaO4ziOYzpAc2IndmInOkDOXkJ7Ce05QMYlpWFutDlAen19fX19OUCKredGJEg5QEJRFEVRFDlA5kYx+/PhOEBi4OnW/LA4QBJIVyBdgThALkU+6wZTOEBcQnsJ7SU4QJ6/gP4C+jdA8DzP8zzPN0BWOlCuj6U3QBMugITwfDdAUlVVVVVVN0D8DNN/tC43QFv4OtsECTdAi6bOrz3kNkACrBWwVsA2QPBHnfJHnTZAnLAn7Al7NkAaC0JqlVk2QIzjOI7jODZAHrdjyO0YNkBCysDTrfk1QK8d27Ed2zVAmd70pje9NUCAKnE29p81QFhveB9UgzVAchbTWUxnNUC6hPYS2ks1QG7OQKv4MDVAQshfs6MWNUAgZeDp1vw0QDaO4ziO4zRAgNz1s8XKNEDozgeWebI0QMpHhD+mmjRAMkiDNEiDNEDCBhcbXGw0QMCksbneVTRA4OSh9cw/NEAuZqXRIyo0QEsBj2zgFDRA/f//////M0A=\",\"dtype\":\"float64\",\"order\":\"little\",\"shape\":[100]}},\"selected\":{\"id\":\"4187\"},\"selection_policy\":{\"id\":\"4186\"}},\"id\":\"4011\",\"type\":\"ColumnDataSource\"},{\"attributes\":{\"axis\":{\"id\":\"3993\"},\"coordinates\":null,\"dimension\":1,\"group\":null,\"ticker\":null},\"id\":\"3996\",\"type\":\"Grid\"},{\"attributes\":{},\"id\":\"3985\",\"type\":\"LinearScale\"},{\"attributes\":{},\"id\":\"3997\",\"type\":\"PanTool\"},{\"attributes\":{},\"id\":\"4186\",\"type\":\"UnionRenderers\"},{\"attributes\":{\"tools\":[{\"id\":\"3997\"},{\"id\":\"3998\"},{\"id\":\"3999\"},{\"id\":\"4000\"},{\"id\":\"4001\"},{\"id\":\"4002\"}]},\"id\":\"4004\",\"type\":\"Toolbar\"},{\"attributes\":{\"overlay\":{\"id\":\"4003\"}},\"id\":\"3999\",\"type\":\"BoxZoomTool\"},{\"attributes\":{},\"id\":\"3981\",\"type\":\"DataRange1d\"},{\"attributes\":{\"coordinates\":null,\"group\":null,\"text\":\"Conducci\\u00f3n de calor en estado estacionario unidimensional a trav\\u00e9s de una superficie esf\\u00e9rica\"},\"id\":\"3979\",\"type\":\"Title\"},{\"attributes\":{},\"id\":\"4000\",\"type\":\"SaveTool\"},{\"attributes\":{},\"id\":\"4187\",\"type\":\"Selection\"},{\"attributes\":{},\"id\":\"4001\",\"type\":\"ResetTool\"},{\"attributes\":{},\"id\":\"4002\",\"type\":\"HelpTool\"},{\"attributes\":{},\"id\":\"3983\",\"type\":\"DataRange1d\"},{\"attributes\":{},\"id\":\"3998\",\"type\":\"WheelZoomTool\"}],\"root_ids\":[\"3978\"]},\"title\":\"Bokeh Application\",\"version\":\"2.4.2\"}};\n",
       "  const render_items = [{\"docid\":\"a46942aa-10a6-430d-8a7d-d0eb5977ff89\",\"root_ids\":[\"3978\"],\"roots\":{\"3978\":\"0eb68560-f63e-4e3e-8bcb-07bd1ecade03\"}}];\n",
       "  root.Bokeh.embed.embed_items_notebook(docs_json, render_items);\n",
       "\n",
       "  }\n",
       "  if (root.Bokeh !== undefined) {\n",
       "    embed_document(root);\n",
       "  } else {\n",
       "    let attempts = 0;\n",
       "    const timer = setInterval(function(root) {\n",
       "      if (root.Bokeh !== undefined) {\n",
       "        clearInterval(timer);\n",
       "        embed_document(root);\n",
       "      } else {\n",
       "        attempts++;\n",
       "        if (attempts > 100) {\n",
       "          clearInterval(timer);\n",
       "          console.log(\"Bokeh: ERROR: Unable to run BokehJS code because BokehJS library is missing\");\n",
       "        }\n",
       "      }\n",
       "    }, 10, root)\n",
       "  }\n",
       "})(window);"
      ],
      "application/vnd.bokehjs_exec.v0+json": ""
     },
     "metadata": {
      "application/vnd.bokehjs_exec.v0+json": {
       "id": "3978"
      }
     },
     "output_type": "display_data"
    }
   ],
   "source": [
    "import numpy as np\n",
    "from bokeh.plotting import figure, show\n",
    "\n",
    "# Definir los valores de las constantes\n",
    "T1 = 100\n",
    "T2 = 20\n",
    "a = 0.01\n",
    "b = 0.1\n",
    "C1 = (T2 - T1) * a * b / (a - b)\n",
    "C2 = T1 + C1 / r1\n",
    "\n",
    "# Definir los valores de r para la gráfica\n",
    "r = np.linspace(a, b, 100)\n",
    "\n",
    "# Calcular los valores de T para los valores de r\n",
    "T = -C1 / r + C2\n",
    "\n",
    "# Crear una figura con etiquetas de los ejes\n",
    "p = figure(title='Conducción de calor en estado estacionario unidimensional a través de una superficie esférica', x_axis_label='r', y_axis_label='Temperatura')\n",
    "\n",
    "# Agregar la línea de la ecuación a la figura\n",
    "p.line(r, T)\n",
    "\n",
    "# Mostrar la figura\n",
    "show(p)\n"
   ]
  },
  {
   "cell_type": "code",
   "execution_count": null,
   "id": "395e05cc",
   "metadata": {},
   "outputs": [],
   "source": []
  }
 ],
 "metadata": {
  "kernelspec": {
   "display_name": "Python 3 (ipykernel)",
   "language": "python",
   "name": "python3"
  },
  "language_info": {
   "codemirror_mode": {
    "name": "ipython",
    "version": 3
   },
   "file_extension": ".py",
   "mimetype": "text/x-python",
   "name": "python",
   "nbconvert_exporter": "python",
   "pygments_lexer": "ipython3",
   "version": "3.9.12"
  }
 },
 "nbformat": 4,
 "nbformat_minor": 5
}
